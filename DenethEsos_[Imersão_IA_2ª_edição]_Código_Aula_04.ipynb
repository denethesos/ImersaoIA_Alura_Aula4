{
  "cells": [
    {
      "cell_type": "markdown",
      "metadata": {
        "id": "view-in-github",
        "colab_type": "text"
      },
      "source": [
        "<a href=\"https://colab.research.google.com/github/denethesos/ImersaoIA_Alura_Aula4/blob/main/DenethEsos_%5BImers%C3%A3o_IA_2%C2%AA_edi%C3%A7%C3%A3o%5D_C%C3%B3digo_Aula_04.ipynb\" target=\"_parent\"><img src=\"https://colab.research.google.com/assets/colab-badge.svg\" alt=\"Open In Colab\"/></a>"
      ]
    },
    {
      "cell_type": "code",
      "execution_count": null,
      "metadata": {
        "colab": {
          "background_save": true
        },
        "id": "nFQLKQ6hfXch"
      },
      "outputs": [],
      "source": [
        "#Instalando o SDK do Google\n",
        "!pip install -q -U google-generativeai"
      ]
    },
    {
      "cell_type": "code",
      "execution_count": null,
      "metadata": {
        "id": "IthzwfnAfcsi"
      },
      "outputs": [],
      "source": [
        "#Configurações iniciais\n",
        "import google.generativeai as genai\n",
        "\n",
        "from google.colab import userdata\n",
        "GOOGLE_API_KEY = userdata.get(\"SECRET_KEY\")\n",
        "genai.configure(api_key=GOOGLE_API_KEY)"
      ]
    },
    {
      "cell_type": "code",
      "execution_count": null,
      "metadata": {
        "colab": {
          "base_uri": "https://localhost:8080/",
          "height": 139
        },
        "id": "iD3ihugymWBt",
        "outputId": "bb60b73e-b590-48a9-a8e8-74cc05691323"
      },
      "outputs": [
        {
          "output_type": "stream",
          "name": "stdout",
          "text": [
            "models/gemini-1.0-pro\n",
            "models/gemini-1.0-pro-001\n",
            "models/gemini-1.0-pro-latest\n",
            "models/gemini-1.0-pro-vision-latest\n",
            "models/gemini-1.5-pro-latest\n",
            "models/gemini-pro\n",
            "models/gemini-pro-vision\n"
          ]
        }
      ],
      "source": [
        "#Listando os modelos disponíveis\n",
        "for m in genai.list_models():\n",
        "  if 'generateContent' in m.supported_generation_methods:\n",
        "    print(m.name)"
      ]
    },
    {
      "cell_type": "code",
      "execution_count": null,
      "metadata": {
        "id": "O1ochaeyDn_o"
      },
      "outputs": [],
      "source": [
        "generation_config = {\n",
        "  \"candidate_count\": 1,\n",
        "  \"temperature\": 0.5,\n",
        "}"
      ]
    },
    {
      "cell_type": "code",
      "execution_count": null,
      "metadata": {
        "id": "jwBv7DofDofw"
      },
      "outputs": [],
      "source": [
        "safety_settings={\n",
        "    'HATE': 'BLOCK_NONE',\n",
        "    'HARASSMENT': 'BLOCK_NONE',\n",
        "    'SEXUAL' : 'BLOCK_NONE',\n",
        "    'DANGEROUS' : 'BLOCK_NONE'\n",
        "    }"
      ]
    },
    {
      "cell_type": "code",
      "execution_count": null,
      "metadata": {
        "id": "NIiSs1R5mVJE"
      },
      "outputs": [],
      "source": [
        "model = genai.GenerativeModel(model_name='gemini-1.0-pro',\n",
        "                                  generation_config=generation_config,\n",
        "                                  safety_settings=safety_settings,)"
      ]
    },
    {
      "cell_type": "code",
      "execution_count": 22,
      "metadata": {
        "colab": {
          "base_uri": "https://localhost:8080/",
          "height": 610
        },
        "id": "KpaQ6hm5f2_J",
        "outputId": "bd9ac29a-f186-4c0e-8715-cba02071ba5a"
      },
      "outputs": [
        {
          "output_type": "stream",
          "name": "stdout",
          "text": [
            "Olá, boas vindas ao MaterI.A. o seu assistente pessoal de geração de questões de múltipla escolha. Por favor, informe o seu curso: Arquitetura e Urbanismo\n",
            "Ótimo! qual tipo de questão de múltipla escolha você deseja criar (multipla escolha simples, múltipla escolha complexa, acerção-razão, verdadeiro ou falso, afirmação incompleta): múltipla escolha simples\n",
            "Entendi. qual tema (ou quais temas) você deseja trabalhar nessa questão? Separe os temas com vírgula: projeto de arquitetura, conforto ambiental e sustentabilidade\n",
            "Para finalizarmos, você deseja informar uma citação ou texto base para eu me inspirar? Se sim, digite ou cole aqui a citação a ser usada. Se não, digite apenas \"Não\", sem as aspas: Não\n",
            "Resposta: **Contexto:**\n",
            "\n",
            "Em um projeto de arquitetura, o conforto ambiental e a sustentabilidade são aspectos fundamentais que devem ser considerados para garantir o bem-estar dos usuários e a redução dos impactos ambientais.\n",
            "\n",
            "**Enunciado:**\n",
            "\n",
            "**Considerando o contexto acima, qual das seguintes alternativas NÃO é uma estratégia de projeto que contribui para o conforto ambiental e a sustentabilidade em edifícios?**\n",
            "\n",
            "**Alternativas:**\n",
            "\n",
            "(A) Utilização de materiais recicláveis e de baixo impacto ambiental\n",
            "(B) Implementação de sistemas passivos de climatização, como ventilação cruzada\n",
            "(C) Instalação de sistemas de ar condicionado de alta eficiência energética\n",
            "(D) Incorporação de áreas verdes e telhados verdes\n",
            "(E) Uso de iluminação natural para reduzir o consumo de energia\n",
            "\n",
            "**Gabarito:**\n",
            "\n",
            "**C**\n",
            "\n",
            "**Justificativa das Alternativas:**\n",
            "\n",
            "(A) **Correta:** Materiais recicláveis e de baixo impacto ambiental contribuem para a sustentabilidade.\n",
            "(B) **Correta:** Sistemas passivos de climatização reduzem o consumo de energia e melhoram o conforto ambiental.\n",
            "(C) **Incorreta:** Sistemas de ar condicionado de alta eficiência energética ainda consomem energia e podem contribuir para o efeito estufa.\n",
            "(D) **Correta:** Áreas verdes e telhados verdes regulam a temperatura, melhoram a qualidade do ar e reduzem o consumo de água.\n",
            "(E) **Correta:** A iluminação natural reduz o consumo de energia e melhora o bem-estar dos usuários. \n",
            "\n",
            "\n"
          ]
        }
      ],
      "source": [
        "chat = model.start_chat(history=[])\n",
        "\n",
        "curso = input('Olá, boas vindas ao MaterI.A. o seu assistente pessoal de geração de questões de múltipla escolha. Por favor, informe o seu curso: ')\n",
        "\n",
        "mcq = input('Ótimo! qual tipo de questão de múltipla escolha você deseja criar (múltipla escolha simples, múltipla escolha complexa, acerção-razão, verdadeiro ou falso, afirmação incompleta): ')\n",
        "\n",
        "mcql=mcq.lower()\n",
        "\n",
        "match mcql:\n",
        "  case 'múltipla escolha simples':\n",
        "    promptfinal = 'cinco alternativas com apenas uma correta, o gabarito e a justificativa de cada alternativa.'\n",
        "  case 'múltipla escolha complexa':\n",
        "    promptfinal = 'quatro afirmativas, podendo estas serem verdadeiras ou falsas, cinco alternativas com apenas uma correta que considere quais das afirmativas estão corretas além do gabarito e a justificativa de cada alternativa.'\n",
        "  case 'asserção-razão':\n",
        "    promptfinal = 'duas asserções com proposições verdadeiras ou falsas entre elas, separadas com PORQUÊ, cinco alternativas com apenas uma correta que considere quais das afirmativas estão corretas além do gabarito e a justificativa de cada alternativa.'\n",
        "  case 'verdadeiro ou falso':\n",
        "    promptfinal = 'cinco afirmações que podem ser verdadeiras ou falsas sobre o assunto anterior, cinco alternativas com apenas uma correta além do gabarito e a justificativa de cada alternativa.'\n",
        "  case 'afirmativa incompleta':\n",
        "    promptfinal = 'cinco alternativas com apenas uma correta que faça uma complementação simples ao assunto do apresentado no contexto, o gabarito e a justificativa de cada alternativa.'\n",
        "\n",
        "temas = input('Entendi. qual tema (ou quais temas) você deseja trabalhar nessa questão? Separe os temas com vírgula: ')\n",
        "\n",
        "txtbase = input ('Para finalizarmos, você deseja informar uma citação ou texto base para eu me inspirar? Se sim, digite ou cole aqui a citação a ser usada. Se não, digite apenas \"Não\", sem as aspas: ')\n",
        "\n",
        "if txtbase == 'Não':\n",
        "  enunciado='Essa questão precisa apresentar: um contexto que possibilite a reflexão sobre o assunto, um enunciado que faça uma ligação com o material anterior, '\n",
        "else:\n",
        "  enunciado='Essa questão precisa apresentar a seguinte citação: \" ' +txtbase+ ' Além disso, precisa de um enunciado que faça uma ligação com a citação anterior, '\n",
        "\n",
        "prompt='Aja como um professor universitário de um curso de graduação em '+curso+'. Você irá criar uma questão do tipo '+mcql+ ', segundo padrão definido pelo INEP, que trate de: ' +temas+'. ' +enunciado+promptfinal\n",
        "\n",
        "response = chat.send_message(prompt)\n",
        "\n",
        "print(\"Resposta:\", response.text, '\\n\\n')"
      ]
    },
    {
      "cell_type": "code",
      "execution_count": 23,
      "metadata": {
        "id": "XLAniTTDhHNW",
        "colab": {
          "base_uri": "https://localhost:8080/"
        },
        "outputId": "f478e40d-0894-438e-fda3-9b922e36819f"
      },
      "outputs": [
        {
          "output_type": "execute_result",
          "data": {
            "text/plain": [
              "ChatSession(\n",
              "    model=genai.GenerativeModel(\n",
              "        model_name='models/gemini-1.0-pro',\n",
              "        generation_config={'candidate_count': 1, 'temperature': 0.5},\n",
              "        safety_settings={<HarmCategory.HARM_CATEGORY_HATE_SPEECH: 8>: <HarmBlockThreshold.BLOCK_NONE: 4>, <HarmCategory.HARM_CATEGORY_HARASSMENT: 7>: <HarmBlockThreshold.BLOCK_NONE: 4>, <HarmCategory.HARM_CATEGORY_SEXUALLY_EXPLICIT: 9>: <HarmBlockThreshold.BLOCK_NONE: 4>, <HarmCategory.HARM_CATEGORY_DANGEROUS_CONTENT: 10>: <HarmBlockThreshold.BLOCK_NONE: 4>},\n",
              "        tools=None,\n",
              "        system_instruction=None,\n",
              "    ),\n",
              "    history=[glm.Content({'parts': [{'text': 'Aja como um ... alternativa.'}], 'role': 'user'}), glm.Content({'parts': [{'text': '**Contexto:*...dos usuários.'}], 'role': 'model'})]\n",
              ")"
            ]
          },
          "metadata": {},
          "execution_count": 23
        }
      ],
      "source": [
        "chat"
      ]
    },
    {
      "cell_type": "code",
      "execution_count": 24,
      "metadata": {
        "id": "sd8mvW9KghTf",
        "colab": {
          "base_uri": "https://localhost:8080/"
        },
        "outputId": "358dadbc-3882-46ed-eb04-3305b6fc3de7"
      },
      "outputs": [
        {
          "output_type": "execute_result",
          "data": {
            "text/plain": [
              "[parts {\n",
              "   text: \"Aja como um professor universit\\303\\241rio de um curso de gradua\\303\\247\\303\\243o em Arquitetura e Urbanismo. Voc\\303\\252 ir\\303\\241 criar uma quest\\303\\243o do tipo m\\303\\272ltipla escolha simples, segundo padr\\303\\243o definido pelo INEP, que trate de: projeto de arquitetura, conforto ambiental e sustentabilidade. Essa quest\\303\\243o precisa apresentar: um contexto que possibilite a reflex\\303\\243o sobre o assunto, um enunciado que fa\\303\\247a uma liga\\303\\247\\303\\243o com o material anterior, cinco alternativas com apenas uma correta, o gabarito e a justificativa de cada alternativa.\"\n",
              " }\n",
              " role: \"user\",\n",
              " parts {\n",
              "   text: \"**Contexto:**\\n\\nEm um projeto de arquitetura, o conforto ambiental e a sustentabilidade s\\303\\243o aspectos fundamentais que devem ser considerados para garantir o bem-estar dos usu\\303\\241rios e a redu\\303\\247\\303\\243o dos impactos ambientais.\\n\\n**Enunciado:**\\n\\n**Considerando o contexto acima, qual das seguintes alternativas N\\303\\203O \\303\\251 uma estrat\\303\\251gia de projeto que contribui para o conforto ambiental e a sustentabilidade em edif\\303\\255cios?**\\n\\n**Alternativas:**\\n\\n(A) Utiliza\\303\\247\\303\\243o de materiais recicl\\303\\241veis e de baixo impacto ambiental\\n(B) Implementa\\303\\247\\303\\243o de sistemas passivos de climatiza\\303\\247\\303\\243o, como ventila\\303\\247\\303\\243o cruzada\\n(C) Instala\\303\\247\\303\\243o de sistemas de ar condicionado de alta efici\\303\\252ncia energ\\303\\251tica\\n(D) Incorpora\\303\\247\\303\\243o de \\303\\241reas verdes e telhados verdes\\n(E) Uso de ilumina\\303\\247\\303\\243o natural para reduzir o consumo de energia\\n\\n**Gabarito:**\\n\\n**C**\\n\\n**Justificativa das Alternativas:**\\n\\n(A) **Correta:** Materiais recicl\\303\\241veis e de baixo impacto ambiental contribuem para a sustentabilidade.\\n(B) **Correta:** Sistemas passivos de climatiza\\303\\247\\303\\243o reduzem o consumo de energia e melhoram o conforto ambiental.\\n(C) **Incorreta:** Sistemas de ar condicionado de alta efici\\303\\252ncia energ\\303\\251tica ainda consomem energia e podem contribuir para o efeito estufa.\\n(D) **Correta:** \\303\\201reas verdes e telhados verdes regulam a temperatura, melhoram a qualidade do ar e reduzem o consumo de \\303\\241gua.\\n(E) **Correta:** A ilumina\\303\\247\\303\\243o natural reduz o consumo de energia e melhora o bem-estar dos usu\\303\\241rios.\"\n",
              " }\n",
              " role: \"model\"]"
            ]
          },
          "metadata": {},
          "execution_count": 24
        }
      ],
      "source": [
        "chat.history"
      ]
    },
    {
      "cell_type": "code",
      "execution_count": 25,
      "metadata": {
        "id": "dAcbPBocgzeX",
        "colab": {
          "base_uri": "https://localhost:8080/",
          "height": 561
        },
        "outputId": "4e74df48-c01d-4aa1-db12-d05e8cffdc55"
      },
      "outputs": [
        {
          "output_type": "display_data",
          "data": {
            "text/plain": [
              "<IPython.core.display.Markdown object>"
            ],
            "text/markdown": "> **user**: Aja como um professor universitário de um curso de graduação em Arquitetura e Urbanismo. Você irá criar uma questão do tipo múltipla escolha simples, segundo padrão definido pelo INEP, que trate de: projeto de arquitetura, conforto ambiental e sustentabilidade. Essa questão precisa apresentar: um contexto que possibilite a reflexão sobre o assunto, um enunciado que faça uma ligação com o material anterior, cinco alternativas com apenas uma correta, o gabarito e a justificativa de cada alternativa."
          },
          "metadata": {}
        },
        {
          "output_type": "stream",
          "name": "stdout",
          "text": [
            "-------------------------------------------\n"
          ]
        },
        {
          "output_type": "display_data",
          "data": {
            "text/plain": [
              "<IPython.core.display.Markdown object>"
            ],
            "text/markdown": "> **model**: **Contexto:**\n> \n> Em um projeto de arquitetura, o conforto ambiental e a sustentabilidade são aspectos fundamentais que devem ser considerados para garantir o bem-estar dos usuários e a redução dos impactos ambientais.\n> \n> **Enunciado:**\n> \n> **Considerando o contexto acima, qual das seguintes alternativas NÃO é uma estratégia de projeto que contribui para o conforto ambiental e a sustentabilidade em edifícios?**\n> \n> **Alternativas:**\n> \n> (A) Utilização de materiais recicláveis e de baixo impacto ambiental\n> (B) Implementação de sistemas passivos de climatização, como ventilação cruzada\n> (C) Instalação de sistemas de ar condicionado de alta eficiência energética\n> (D) Incorporação de áreas verdes e telhados verdes\n> (E) Uso de iluminação natural para reduzir o consumo de energia\n> \n> **Gabarito:**\n> \n> **C**\n> \n> **Justificativa das Alternativas:**\n> \n> (A) **Correta:** Materiais recicláveis e de baixo impacto ambiental contribuem para a sustentabilidade.\n> (B) **Correta:** Sistemas passivos de climatização reduzem o consumo de energia e melhoram o conforto ambiental.\n> (C) **Incorreta:** Sistemas de ar condicionado de alta eficiência energética ainda consomem energia e podem contribuir para o efeito estufa.\n> (D) **Correta:** Áreas verdes e telhados verdes regulam a temperatura, melhoram a qualidade do ar e reduzem o consumo de água.\n> (E) **Correta:** A iluminação natural reduz o consumo de energia e melhora o bem-estar dos usuários."
          },
          "metadata": {}
        },
        {
          "output_type": "stream",
          "name": "stdout",
          "text": [
            "-------------------------------------------\n"
          ]
        }
      ],
      "source": [
        "#Melhorando a visualização\n",
        "#Código disponível em https://ai.google.dev/tutorials/python_quickstart#import_packages\n",
        "import textwrap\n",
        "from IPython.display import display\n",
        "from IPython.display import Markdown\n",
        "\n",
        "def to_markdown(text):\n",
        "  text = text.replace('•', '  *')\n",
        "  return Markdown(textwrap.indent(text, '> ', predicate=lambda _: True))\n",
        "\n",
        "#Imprimindo o histórico\n",
        "for message in chat.history:\n",
        "  display(to_markdown(f'**{message.role}**: {message.parts[0].text}'))\n",
        "  print('-------------------------------------------')"
      ]
    }
  ],
  "metadata": {
    "colab": {
      "provenance": [],
      "include_colab_link": true
    },
    "kernelspec": {
      "display_name": "Python 3",
      "name": "python3"
    },
    "language_info": {
      "name": "python"
    }
  },
  "nbformat": 4,
  "nbformat_minor": 0
}